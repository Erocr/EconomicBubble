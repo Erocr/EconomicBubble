{
 "cells": [
  {
   "cell_type": "code",
   "execution_count": 5,
   "metadata": {},
   "outputs": [
    {
     "name": "stdout",
     "output_type": "stream",
     "text": [
      "wohoel4\n"
     ]
    }
   ],
   "source": [
    "class Oman:\n",
    "    def call(self, f, *args):\n",
    "        f(self, *args)\n",
    "\n",
    "    def hwollo(self, v):\n",
    "        print(\"wohoel\" + str(v))\n",
    "\n",
    "    \n",
    "class blogav(Oman):\n",
    "    pass\n",
    "\n",
    "honam = blogav()\n",
    "\n",
    "\n",
    "actions = {Oman: (Oman.hwollo, 4)}\n",
    "\n",
    "def parse_actions(actions):\n",
    "    mn = Oman()\n",
    "    mn.call(*actions[type(mn)])\n",
    "\n",
    "parse_actions(actions)"
   ]
  },
  {
   "cell_type": "code",
   "execution_count": null,
   "metadata": {},
   "outputs": [],
   "source": []
  }
 ],
 "metadata": {
  "kernelspec": {
   "display_name": ".venv",
   "language": "python",
   "name": "python3"
  },
  "language_info": {
   "codemirror_mode": {
    "name": "ipython",
    "version": 3
   },
   "file_extension": ".py",
   "mimetype": "text/x-python",
   "name": "python",
   "nbconvert_exporter": "python",
   "pygments_lexer": "ipython3",
   "version": "3.12.0"
  }
 },
 "nbformat": 4,
 "nbformat_minor": 2
}
