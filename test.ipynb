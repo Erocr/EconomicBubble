{
 "cells": [
  {
   "cell_type": "code",
   "execution_count": 7,
   "metadata": {},
   "outputs": [
    {
     "name": "stdout",
     "output_type": "stream",
     "text": [
      "wohoel4\n"
     ]
    }
   ],
   "source": [
    "class Oman:\n",
    "    def hwollo(self, v):\n",
    "        print(\"wohoel\" + str(v))\n",
    "\n",
    "    \n",
    "class blogav(Oman):\n",
    "    pass\n",
    "\n",
    "honam = blogav()\n",
    "\n",
    "\n",
    "actions = {Oman: (Oman.hwollo, 4)}\n",
    "\n",
    "def parse_actions(actions):\n",
    "    mn = Oman()\n",
    "    actions[type(mn)][0](mn, actions[type(mn)][1])\n",
    "\n",
    "parse_actions(actions)"
   ]
  },
  {
   "cell_type": "code",
   "execution_count": 1,
   "metadata": {},
   "outputs": [
    {
     "name": "stdout",
     "output_type": "stream",
     "text": [
      "fda\n",
      "jfjef\n"
     ]
    }
   ],
   "source": [
    "sa = {\"fda\": 4, \"jfjef\":46}\n",
    "\n",
    "for x in sa:\n",
    "    print(x)"
   ]
  },
  {
   "cell_type": "code",
   "execution_count": null,
   "metadata": {},
   "outputs": [],
   "source": [
    "# list of functions to modify the economy:\n",
    "\n",
    "Node.mulValue est defini dans baseNode\n",
    "\n",
    "TrueCapitalNode.incrementCapital(increment) # increment can be negative\n",
    "\n",
    "\n",
    "ApparentCapitalNode.incrementCapital(increment) # increment can be negative\n",
    "\n",
    "ApparentCapitalNode.incrementPersuasion(increment) # must be positive, between 0 and 1\n",
    "\n",
    "# MarketNode means one of (soap, beer, wrap)\n",
    "MarketNode.incrementMaxPrice(increment) # increment can be negative, advised to be between roughly -2 and 2 ( can be more, no problem)\n",
    "\n",
    "MarketNode.incrementMinPrice(increment) # increment can be positive, advised to be between roughly -2 and 2 ( can be more, no problem)\n",
    "\n",
    "# will be brutal: good to simulate an economic crash or a very sudden increase\n",
    "MarketNode.mulValue(mul) # multiply market price by value (does nothing if value is being capped), (be careful, if market price is negative it makes them go even lower)\n",
    "\n",
    "MarketNode.incrementTendance(increment)\n",
    "\n",
    "PublicDoubtNode.incrementDoubt(increment) # between -100 and 100\n",
    "\n",
    "PublicDoubtNode.incrementVolatility(increment) # between -10 and 10\n",
    "\n"
   ]
  }
 ],
 "metadata": {
  "kernelspec": {
   "display_name": ".venv",
   "language": "python",
   "name": "python3"
  },
  "language_info": {
   "codemirror_mode": {
    "name": "ipython",
    "version": 3
   },
   "file_extension": ".py",
   "mimetype": "text/x-python",
   "name": "python",
   "nbconvert_exporter": "python",
   "pygments_lexer": "ipython3",
   "version": "3.12.0"
  }
 },
 "nbformat": 4,
 "nbformat_minor": 2
}
